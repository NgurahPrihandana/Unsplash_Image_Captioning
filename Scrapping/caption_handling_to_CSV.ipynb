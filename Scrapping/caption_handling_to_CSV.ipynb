{
 "cells": [
  {
   "cell_type": "code",
   "execution_count": null,
   "metadata": {},
   "outputs": [],
   "source": [
    "import os\n",
    "import re\n",
    "from PIL import Image\n",
    "import torchvision.transforms as transforms"
   ]
  },
  {
   "cell_type": "code",
   "execution_count": 1,
   "metadata": {},
   "outputs": [
    {
     "name": "stdout",
     "output_type": "stream",
     "text": [
      "nature/white and blue floral mattress_2740.jpg: white and blue floral mattress\n",
      "nature/brown and green mountains under white sky during daytime_3887.jpg: brown and green mountains under white sky during daytime\n",
      "nature/silhouette of mountain under full moon_1880.jpg: silhouette of mountain under full moon\n",
      "nature/person in red hoodie standing on snowy mountain during daytime_1518.jpg: person in red hoodie standing on snowy mountain during daytime\n",
      "nature/landscape photo of waterfalls flowing into river during daytime_69.jpg: landscape photo of waterfalls flowing into river during daytime\n"
     ]
    }
   ],
   "source": [
    "import os\n",
    "import re\n",
    "\n",
    "# Define the path to your main directory containing the subfolders\n",
    "main_folder = \"/Users/prihandana/Developer/Deep Learning/Unsplash_Image_Scrapper/Unsplash_Image_Captioning/Scrapping/Images/\"\n",
    "\n",
    "def extract_captions_from_folders(main_folder):\n",
    "    captions = {}\n",
    "    for subfolder in os.listdir(main_folder):\n",
    "        subfolder_path = os.path.join(main_folder, subfolder)\n",
    "        if os.path.isdir(subfolder_path):\n",
    "            for filename in os.listdir(subfolder_path):\n",
    "                # Only process .jpg files\n",
    "                if filename.endswith(\".jpg\"):\n",
    "                    # Extract caption from filename\n",
    "                    caption = re.sub(r\"_\\d+\\.jpg$\", \"\", filename)  # Remove trailing numbers and \".jpg\"\n",
    "                    caption = caption.replace('_', ' ').lower()  # Replace underscores with spaces and convert to lowercase\n",
    "                    # Store with relative path\n",
    "                    captions[os.path.join(subfolder, filename)] = caption\n",
    "    return captions\n",
    "\n",
    "captions = extract_captions_from_folders(main_folder)\n",
    "\n",
    "# Print a sample of captions to check\n",
    "for filename, caption in list(captions.items())[:5]:\n",
    "    print(f\"{filename}: {caption}\")\n"
   ]
  },
  {
   "cell_type": "code",
   "execution_count": null,
   "metadata": {},
   "outputs": [],
   "source": [
    "# caption_file_path = \"captions.txt\"\n",
    "# with open(caption_file_path, \"w\") as f:\n",
    "#     for filename, caption in captions.items():\n",
    "#         f.write(f\"{filename}\\t{caption}\\n\")"
   ]
  }
 ],
 "metadata": {
  "kernelspec": {
   "display_name": ".venv",
   "language": "python",
   "name": "python3"
  },
  "language_info": {
   "codemirror_mode": {
    "name": "ipython",
    "version": 3
   },
   "file_extension": ".py",
   "mimetype": "text/x-python",
   "name": "python",
   "nbconvert_exporter": "python",
   "pygments_lexer": "ipython3",
   "version": "3.9.7"
  }
 },
 "nbformat": 4,
 "nbformat_minor": 2
}
