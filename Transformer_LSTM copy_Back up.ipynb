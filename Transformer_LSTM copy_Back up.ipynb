{
 "cells": [
  {
   "cell_type": "code",
   "execution_count": null,
   "metadata": {},
   "outputs": [
    {
     "name": "stderr",
     "output_type": "stream",
     "text": [
      "/Users/prihandana/Developer/Deep Learning/Unsplash_Image_Scrapper/Unsplash_Image_Captioning/Scrapping/.venv/lib/python3.9/site-packages/tqdm/auto.py:21: TqdmWarning: IProgress not found. Please update jupyter and ipywidgets. See https://ipywidgets.readthedocs.io/en/stable/user_install.html\n",
      "  from .autonotebook import tqdm as notebook_tqdm\n"
     ]
    }
   ],
   "source": [
    "import os\n",
    "import numpy as np\n",
    "import tensorflow as tf\n",
    "from tensorflow.keras.preprocessing.text import Tokenizer\n",
    "from tensorflow.keras.preprocessing.sequence import pad_sequences\n",
    "from tensorflow.keras.layers import Input, LSTM, Embedding, Dense, Add\n",
    "from tensorflow.keras.models import Model\n",
    "from tensorflow.keras.optimizers import Adam\n",
    "from tensorflow.keras.layers import Concatenate, Dropout\n",
    "from sklearn.model_selection import train_test_split\n",
    "from transformers import ViTModel, ViTFeatureExtractor\n",
    "from nltk.translate.bleu_score import corpus_bleu\n",
    "from PIL import Image\n",
    "import matplotlib.pyplot as plt\n",
    "import torch\n",
    "from tensorflow.keras.callbacks import EarlyStopping"
   ]
  },
  {
   "cell_type": "code",
   "execution_count": 2,
   "metadata": {},
   "outputs": [
    {
     "name": "stdout",
     "output_type": "stream",
     "text": [
      "Num GPUs Available:  1\n"
     ]
    }
   ],
   "source": [
    "import tensorflow as tf\n",
    "print(\"Num GPUs Available: \", len(tf.config.experimental.list_physical_devices('GPU')))"
   ]
  },
  {
   "cell_type": "code",
   "execution_count": 3,
   "metadata": {},
   "outputs": [],
   "source": [
    "# Load the captions file\n",
    "def load_data(caption_file, image_dir):\n",
    "    with open(caption_file, 'r') as f:\n",
    "        lines = f.readlines()\n",
    "    captions = []\n",
    "    image_paths = []\n",
    "    for line in lines:\n",
    "        img_path, caption = line.strip().split('\\t')\n",
    "        captions.append(caption)\n",
    "        image_paths.append(os.path.join(image_dir, img_path))\n",
    "    return image_paths, captions"
   ]
  },
  {
   "cell_type": "code",
   "execution_count": 4,
   "metadata": {},
   "outputs": [],
   "source": [
    "# Load Hugging Face ViT model and feature extractor\n",
    "def load_vit_model_and_processor():\n",
    "    model = ViTModel.from_pretrained(\"google/vit-base-patch16-224-in21k\")\n",
    "    model.eval()  # Set model to evaluation mode\n",
    "    feature_extractor = ViTFeatureExtractor.from_pretrained(\"google/vit-base-patch16-224-in21k\")\n",
    "    return model, feature_extractor"
   ]
  },
  {
   "cell_type": "code",
   "execution_count": 5,
   "metadata": {},
   "outputs": [],
   "source": [
    "# Preprocess images for ViT\n",
    "def preprocess_image_vit(image_path, feature_extractor):\n",
    "    image = Image.open(image_path).convert(\"RGB\")\n",
    "    inputs = feature_extractor(images=image, return_tensors=\"pt\")  # Convert to tensor\n",
    "    return inputs[\"pixel_values\"]"
   ]
  },
  {
   "cell_type": "code",
   "execution_count": 6,
   "metadata": {},
   "outputs": [],
   "source": [
    "# Extract features using ViT\n",
    "def extract_features_vit(image_paths, model, feature_extractor):\n",
    "    features = []\n",
    "    for path in image_paths:\n",
    "        pixel_values = preprocess_image_vit(path, feature_extractor)\n",
    "        with torch.no_grad():\n",
    "            outputs = model(pixel_values)\n",
    "            features.append(outputs.last_hidden_state.mean(dim=1).numpy())  # Take mean of all patches\n",
    "    return np.vstack(features)"
   ]
  },
  {
   "cell_type": "code",
   "execution_count": 7,
   "metadata": {},
   "outputs": [],
   "source": [
    "# Prepare tokenizer\n",
    "def prepare_tokenizer(captions):\n",
    "    tokenizer = Tokenizer(oov_token=\"<unk>\")\n",
    "    \n",
    "    # Add <start> and <end> tokens to captions before fitting\n",
    "    captions_with_tokens = [\"<start> \" + c + \" <end>\" for c in captions]\n",
    "    \n",
    "    tokenizer.fit_on_texts(captions_with_tokens)\n",
    "    \n",
    "    # Explicitly add <pad> to the tokenizer's vocabulary\n",
    "    tokenizer.word_index[\"<pad>\"] = 0\n",
    "    tokenizer.index_word[0] = \"<pad>\"\n",
    "    \n",
    "    return tokenizer"
   ]
  },
  {
   "cell_type": "code",
   "execution_count": null,
   "metadata": {},
   "outputs": [],
   "source": [
    "# Trim captions to max_len - 2\n",
    "def trim_caption(caption, max_len):\n",
    "    # Split caption into tokens\n",
    "    caption_tokens = caption.split()\n",
    "    \n",
    "    # Trim tokens to fit within max_len - 2\n",
    "    if len(caption_tokens) > max_len - 2:\n",
    "        caption_tokens = caption_tokens[:max_len - 2]\n",
    "    \n",
    "    return caption_tokens\n",
    "\n",
    "# Add <start> and <end> tokens to captions\n",
    "def add_tokens(caption_tokens):\n",
    "    return [\"<start>\"] + caption_tokens + [\"<end>\"]\n",
    "\n",
    "# Pad captions \n",
    "def pad_caption(caption_tokens, max_len):\n",
    "    # Add <pad> tokens to the end of captions shorter than max_len\n",
    "    padding_needed = max_len - len(caption_tokens)\n",
    "    return caption_tokens + [\"<pad>\"] * padding_needed"
   ]
  },
  {
   "cell_type": "code",
   "execution_count": null,
   "metadata": {},
   "outputs": [],
   "source": [
    "def process_captions(captions, max_len):\n",
    "    processed_captions = []\n",
    "    \n",
    "    for caption in captions:\n",
    "        # Trim the caption\n",
    "        caption_tokens = trim_caption(caption, max_len)\n",
    "        \n",
    "        # Add <start> and <end> tokens\n",
    "        caption_tokens_with_tokens = add_tokens(caption_tokens)\n",
    "        \n",
    "        # Pad the caption to max_len\n",
    "        caption_tokens_padded = pad_caption(caption_tokens_with_tokens, max_len)\n",
    "        \n",
    "        processed_captions.append(\" \".join(caption_tokens_padded))\n",
    "    \n",
    "    return processed_captions"
   ]
  },
  {
   "cell_type": "code",
   "execution_count": 62,
   "metadata": {},
   "outputs": [],
   "source": [
    "# Prepare sequences\n",
    "def prepare_sequences(captions, tokenizer, max_len):\n",
    "    # Process captions with trimming, token addition, and padding\n",
    "    processed_captions = process_captions(captions, max_len)\n",
    "    \n",
    "    # Convert processed captions to sequences\n",
    "    sequences = tokenizer.texts_to_sequences(processed_captions)\n",
    "    \n",
    "    # Ensure sequences are padded to max_len\n",
    "    sequences = pad_sequences(sequences, padding=\"post\", maxlen=max_len)\n",
    "    \n",
    "    # print processed captions and their tokenized sequences\n",
    "    for i, caption in enumerate(processed_captions[7:8]): \n",
    "        print(f\"Processed Caption {i + 1}: {caption}\")\n",
    "        print(f\"Tokenized Sequence {i + 1}: {sequences[i]}\")\n",
    "        \n",
    "    return sequences"
   ]
  },
  {
   "cell_type": "code",
   "execution_count": 44,
   "metadata": {},
   "outputs": [],
   "source": [
    "def create_model(embedding_dim, lstm_units, vocab_size, max_len):\n",
    "    # Image feature input\n",
    "    image_input = Input(shape=(768,))\n",
    "    image_embedding = Dense(embedding_dim, activation=\"relu\")(image_input)\n",
    "    image_embedding = Dropout(0.3)(image_embedding)  # Regularization\n",
    "    image_embedding = Dense(embedding_dim, activation=\"relu\")(image_embedding)\n",
    "\n",
    "    # Text input\n",
    "    text_input = Input(shape=(max_len - 1,))\n",
    "    text_embedding = Embedding(input_dim=vocab_size, output_dim=embedding_dim)(text_input)\n",
    "\n",
    "    # Stacked LSTM layers\n",
    "    lstm = LSTM(lstm_units, return_sequences=True)(text_embedding)\n",
    "    lstm = Dropout(0.3)(lstm)  # Regularization\n",
    "    lstm = LSTM(lstm_units, return_sequences=True)(lstm)\n",
    "\n",
    "    # Combine image features and LSTM output\n",
    "    combined = Add()([image_embedding, lstm])  # Combine image and text features\n",
    "\n",
    "    # Output layer\n",
    "    output = Dense(vocab_size, activation=\"softmax\")(combined)\n",
    "\n",
    "    # Create model\n",
    "    model = Model(inputs=[image_input, text_input], outputs=output)\n",
    "    return model"
   ]
  },
  {
   "cell_type": "code",
   "execution_count": 13,
   "metadata": {},
   "outputs": [],
   "source": [
    "# Plot training history\n",
    "def plot_history(history):\n",
    "    plt.figure(figsize=(12, 6))\n",
    "    plt.subplot(1, 2, 1)\n",
    "    plt.plot(history.history['loss'], label='Train Loss')\n",
    "    plt.plot(history.history['val_loss'], label='Val Loss')\n",
    "    plt.legend()\n",
    "    plt.title(\"Loss\")\n",
    "\n",
    "    plt.subplot(1, 2, 2)\n",
    "    plt.plot(history.history['accuracy'], label='Train Accuracy')\n",
    "    plt.plot(history.history['val_accuracy'], label='Val Accuracy')\n",
    "    plt.legend()\n",
    "    plt.title(\"Accuracy\")\n",
    "\n",
    "    plt.show()"
   ]
  },
  {
   "cell_type": "code",
   "execution_count": 14,
   "metadata": {},
   "outputs": [],
   "source": [
    "caption_file = \"Images/captions.txt\"  # Path to caption.txt\n",
    "image_dir = \"Images/\"  # Directory containing images\n",
    "image_paths, captions = load_data(caption_file, image_dir)"
   ]
  },
  {
   "cell_type": "code",
   "execution_count": 15,
   "metadata": {},
   "outputs": [
    {
     "name": "stderr",
     "output_type": "stream",
     "text": [
      "/Users/prihandana/Developer/Deep Learning/Unsplash_Image_Scrapper/Unsplash_Image_Captioning/Scrapping/.venv/lib/python3.9/site-packages/transformers/models/vit/feature_extraction_vit.py:28: FutureWarning: The class ViTFeatureExtractor is deprecated and will be removed in version 5 of Transformers. Please use ViTImageProcessor instead.\n",
      "  warnings.warn(\n"
     ]
    }
   ],
   "source": [
    "# Load Hugging Face ViT model and feature extractor\n",
    "vit_model, feature_extractor = load_vit_model_and_processor()\n",
    "image_features = extract_features_vit(image_paths, vit_model, feature_extractor)"
   ]
  },
  {
   "cell_type": "code",
   "execution_count": 63,
   "metadata": {},
   "outputs": [
    {
     "name": "stdout",
     "output_type": "stream",
     "text": [
      "Processed Caption 1: <start> high-angle photo of beach <end> <pad> <pad> <pad> <pad> <pad> <pad> <pad> <pad> <pad> <pad> <pad> <pad> <pad> <pad>\n",
      "Tokenized Sequence 1: [  4  43  36   6 348 146   2   1   1   1   1   1   1   1   1   1   1   1\n",
      "   1   1]\n"
     ]
    }
   ],
   "source": [
    "max_len = 20\n",
    "\n",
    "# Prepare tokenizer\n",
    "tokenizer = prepare_tokenizer(captions)\n",
    "\n",
    "# Prepare sequences with correct max_len\n",
    "sequences = prepare_sequences(captions, tokenizer, max_len)\n",
    "\n",
    "# Vocabulary size\n",
    "vocab_size = len(tokenizer.word_index) + 1"
   ]
  },
  {
   "cell_type": "code",
   "execution_count": 47,
   "metadata": {},
   "outputs": [
    {
     "data": {
      "text/plain": [
       "20"
      ]
     },
     "execution_count": 47,
     "metadata": {},
     "output_type": "execute_result"
    }
   ],
   "source": [
    "max_len"
   ]
  },
  {
   "cell_type": "code",
   "execution_count": 48,
   "metadata": {},
   "outputs": [],
   "source": [
    "# Split data into training, validation, and testing\n",
    "X_train_img, X_test_img, y_train, y_test = train_test_split(image_features, sequences, test_size=0.2, random_state=42)\n",
    "X_train_img, X_val_img, y_train, y_val = train_test_split(X_train_img, y_train, test_size=0.2, random_state=42)\n",
    "\n",
    "# Create input and target sequences\n",
    "X_train_text, y_train_target = y_train[:, :-1], y_train[:, 1:]\n",
    "X_val_text, y_val_target = y_val[:, :-1], y_val[:, 1:]\n",
    "X_test_text, y_test_target = y_test[:, :-1], y_test[:, 1:]\n",
    "\n",
    "# Flatten target sequences\n",
    "y_train_target = y_train_target.reshape(-1, max_len - 1)  # Reshape for the target sequence\n",
    "y_val_target = y_val_target.reshape(-1, max_len - 1)\n",
    "y_test_target = y_test_target.reshape(-1, max_len - 1)\n"
   ]
  },
  {
   "cell_type": "code",
   "execution_count": 49,
   "metadata": {},
   "outputs": [],
   "source": [
    "# Create model\n",
    "embedding_dim = 512\n",
    "lstm_units = 512\n",
    "# Create the model\n",
    "model = create_model(embedding_dim, lstm_units, vocab_size, max_len)\n",
    "loss = tf.keras.losses.SparseCategoricalCrossentropy(from_logits=False)\n",
    "model.compile(loss=loss, optimizer=Adam(), metrics=[\"accuracy\"])"
   ]
  },
  {
   "cell_type": "code",
   "execution_count": 50,
   "metadata": {},
   "outputs": [
    {
     "name": "stdout",
     "output_type": "stream",
     "text": [
      "X_train_text shape: (10229, 19)\n",
      "y_train_target shape: (10229, 19)\n"
     ]
    }
   ],
   "source": [
    "print(\"X_train_text shape:\", X_train_text.shape)  # Should be (num_samples, max_len - 1)\n",
    "print(\"y_train_target shape:\", y_train_target.shape)  # Should match X_train_text"
   ]
  },
  {
   "cell_type": "code",
   "execution_count": 51,
   "metadata": {},
   "outputs": [
    {
     "name": "stdout",
     "output_type": "stream",
     "text": [
      "X_train_img shape: (10229, 768)\n",
      "X_train_text shape: (10229, 19)\n",
      "y_train_target shape: (10229, 19)\n",
      "Model output shape: (None, 19, 3124)\n"
     ]
    }
   ],
   "source": [
    "print(\"X_train_img shape:\", X_train_img.shape)\n",
    "print(\"X_train_text shape:\", X_train_text.shape)\n",
    "print(\"y_train_target shape:\", y_train_target.shape)\n",
    "print(\"Model output shape:\", model.output_shape)"
   ]
  },
  {
   "cell_type": "code",
   "execution_count": 52,
   "metadata": {},
   "outputs": [
    {
     "name": "stdout",
     "output_type": "stream",
     "text": [
      "Epoch 1/50\n"
     ]
    },
    {
     "name": "stderr",
     "output_type": "stream",
     "text": [
      "/Users/prihandana/Developer/Deep Learning/Unsplash_Image_Scrapper/Unsplash_Image_Captioning/Scrapping/.venv/lib/python3.9/site-packages/keras/src/models/functional.py:225: UserWarning: The structure of `inputs` doesn't match the expected structure: ['keras_tensor_42', 'keras_tensor_46']. Received: the structure of inputs=('*', '*')\n",
      "  warnings.warn(\n"
     ]
    },
    {
     "name": "stdout",
     "output_type": "stream",
     "text": [
      "\u001b[1m160/160\u001b[0m \u001b[32m━━━━━━━━━━━━━━━━━━━━\u001b[0m\u001b[37m\u001b[0m \u001b[1m13s\u001b[0m 65ms/step - accuracy: 0.5789 - loss: 3.1050 - val_accuracy: 0.6564 - val_loss: 1.8048\n",
      "Epoch 2/50\n",
      "\u001b[1m160/160\u001b[0m \u001b[32m━━━━━━━━━━━━━━━━━━━━\u001b[0m\u001b[37m\u001b[0m \u001b[1m10s\u001b[0m 60ms/step - accuracy: 0.6696 - loss: 1.6952 - val_accuracy: 0.7333 - val_loss: 1.3154\n",
      "Epoch 3/50\n",
      "\u001b[1m160/160\u001b[0m \u001b[32m━━━━━━━━━━━━━━━━━━━━\u001b[0m\u001b[37m\u001b[0m \u001b[1m10s\u001b[0m 59ms/step - accuracy: 0.7480 - loss: 1.1719 - val_accuracy: 0.7676 - val_loss: 1.1008\n",
      "Epoch 4/50\n",
      "\u001b[1m160/160\u001b[0m \u001b[32m━━━━━━━━━━━━━━━━━━━━\u001b[0m\u001b[37m\u001b[0m \u001b[1m9s\u001b[0m 58ms/step - accuracy: 0.7783 - loss: 0.9551 - val_accuracy: 0.7804 - val_loss: 1.0251\n",
      "Epoch 5/50\n",
      "\u001b[1m160/160\u001b[0m \u001b[32m━━━━━━━━━━━━━━━━━━━━\u001b[0m\u001b[37m\u001b[0m \u001b[1m9s\u001b[0m 58ms/step - accuracy: 0.7967 - loss: 0.8281 - val_accuracy: 0.7870 - val_loss: 0.9860\n",
      "Epoch 6/50\n",
      "\u001b[1m160/160\u001b[0m \u001b[32m━━━━━━━━━━━━━━━━━━━━\u001b[0m\u001b[37m\u001b[0m \u001b[1m9s\u001b[0m 59ms/step - accuracy: 0.8108 - loss: 0.7383 - val_accuracy: 0.7927 - val_loss: 0.9717\n",
      "Epoch 7/50\n",
      "\u001b[1m160/160\u001b[0m \u001b[32m━━━━━━━━━━━━━━━━━━━━\u001b[0m\u001b[37m\u001b[0m \u001b[1m10s\u001b[0m 60ms/step - accuracy: 0.8242 - loss: 0.6648 - val_accuracy: 0.7949 - val_loss: 0.9618\n",
      "Epoch 8/50\n",
      "\u001b[1m160/160\u001b[0m \u001b[32m━━━━━━━━━━━━━━━━━━━━\u001b[0m\u001b[37m\u001b[0m \u001b[1m10s\u001b[0m 59ms/step - accuracy: 0.8369 - loss: 0.5995 - val_accuracy: 0.7952 - val_loss: 0.9655\n",
      "Epoch 9/50\n",
      "\u001b[1m160/160\u001b[0m \u001b[32m━━━━━━━━━━━━━━━━━━━━\u001b[0m\u001b[37m\u001b[0m \u001b[1m10s\u001b[0m 59ms/step - accuracy: 0.8486 - loss: 0.5461 - val_accuracy: 0.7953 - val_loss: 0.9699\n",
      "Epoch 10/50\n",
      "\u001b[1m160/160\u001b[0m \u001b[32m━━━━━━━━━━━━━━━━━━━━\u001b[0m\u001b[37m\u001b[0m \u001b[1m9s\u001b[0m 59ms/step - accuracy: 0.8616 - loss: 0.4925 - val_accuracy: 0.7961 - val_loss: 0.9747\n",
      "Epoch 11/50\n",
      "\u001b[1m160/160\u001b[0m \u001b[32m━━━━━━━━━━━━━━━━━━━━\u001b[0m\u001b[37m\u001b[0m \u001b[1m9s\u001b[0m 59ms/step - accuracy: 0.8713 - loss: 0.4554 - val_accuracy: 0.7973 - val_loss: 0.9859\n",
      "Epoch 12/50\n",
      "\u001b[1m160/160\u001b[0m \u001b[32m━━━━━━━━━━━━━━━━━━━━\u001b[0m\u001b[37m\u001b[0m \u001b[1m10s\u001b[0m 61ms/step - accuracy: 0.8802 - loss: 0.4173 - val_accuracy: 0.7961 - val_loss: 1.0000\n",
      "Epoch 13/50\n",
      "\u001b[1m160/160\u001b[0m \u001b[32m━━━━━━━━━━━━━━━━━━━━\u001b[0m\u001b[37m\u001b[0m \u001b[1m10s\u001b[0m 60ms/step - accuracy: 0.8876 - loss: 0.3862 - val_accuracy: 0.7947 - val_loss: 1.0086\n",
      "Epoch 14/50\n",
      "\u001b[1m160/160\u001b[0m \u001b[32m━━━━━━━━━━━━━━━━━━━━\u001b[0m\u001b[37m\u001b[0m \u001b[1m9s\u001b[0m 59ms/step - accuracy: 0.8950 - loss: 0.3571 - val_accuracy: 0.7968 - val_loss: 1.0257\n",
      "Epoch 15/50\n",
      "\u001b[1m160/160\u001b[0m \u001b[32m━━━━━━━━━━━━━━━━━━━━\u001b[0m\u001b[37m\u001b[0m \u001b[1m10s\u001b[0m 60ms/step - accuracy: 0.9040 - loss: 0.3259 - val_accuracy: 0.7966 - val_loss: 1.0385\n",
      "Epoch 16/50\n",
      "\u001b[1m160/160\u001b[0m \u001b[32m━━━━━━━━━━━━━━━━━━━━\u001b[0m\u001b[37m\u001b[0m \u001b[1m9s\u001b[0m 58ms/step - accuracy: 0.9119 - loss: 0.2988 - val_accuracy: 0.7956 - val_loss: 1.0548\n"
     ]
    }
   ],
   "source": [
    "# Define early stopping callback\n",
    "# Pakai next time aja\n",
    "early_stopping = EarlyStopping(\n",
    "    monitor='val_accuracy',  # Metric to monitor\n",
    "    patience=5,              # Number of epochs to wait for improvement\n",
    "    mode='max',              # We want to maximize accuracy\n",
    "    restore_best_weights=True  # Restore the weights of the best epoch\n",
    ")\n",
    "\n",
    "sample_weight = tf.cast(y_train_target != 0, tf.float32)\n",
    "\n",
    "# Model fitting with the EarlyStopping callback\n",
    "history = model.fit(\n",
    "    [X_train_img, X_train_text], y_train_target,\n",
    "    validation_data=([X_val_img, X_val_text], y_val_target),\n",
    "    epochs=50,\n",
    "    batch_size=64,\n",
    "    callbacks=[early_stopping],\n",
    "    sample_weight=sample_weight\n",
    ")"
   ]
  },
  {
   "cell_type": "code",
   "execution_count": 53,
   "metadata": {},
   "outputs": [
    {
     "data": {
      "image/png": "[encoded data removed]",
      "text/plain": [
       "<Figure size 1200x600 with 2 Axes>"
      ]
     },
     "metadata": {},
     "output_type": "display_data"
    }
   ],
   "source": [
    "# Plot training history\n",
    "plot_history(history)"
   ]
  },
  {
   "cell_type": "code",
   "execution_count": null,
   "metadata": {},
   "outputs": [
    {
     "name": "stderr",
     "output_type": "stream",
     "text": [
      "WARNING:absl:You are saving your model as an HDF5 file via `model.save()` or `keras.saving.save_model(model)`. This file format is considered legacy. We recommend using instead the native Keras format, e.g. `model.save('my_model.keras')` or `keras.saving.save_model(model, 'my_model.keras')`. \n"
     ]
    },
    {
     "name": "stdout",
     "output_type": "stream",
     "text": [
      "Model saved\n"
     ]
    }
   ],
   "source": [
    "# Save the model\n",
    "model.save(\"models/Vit_LSTM_6.h5\")\n",
    "print(\"Model saved\")"
   ]
  },
  {
   "cell_type": "code",
   "execution_count": null,
   "metadata": {},
   "outputs": [
    {
     "name": "stdout",
     "output_type": "stream",
     "text": [
      "Tokenizer saved\n"
     ]
    }
   ],
   "source": [
    "# Save tokenizer\n",
    "with open(\"tokenizer/tokenizer_6.json\", \"w\") as f:\n",
    "    f.write(tokenizer.to_json())\n",
    "print(\"Tokenizer saved\")"
   ]
  },
  {
   "cell_type": "code",
   "execution_count": null,
   "metadata": {},
   "outputs": [],
   "source": []
  }
 ],
 "metadata": {
  "kernelspec": {
   "display_name": ".venv",
   "language": "python",
   "name": "python3"
  },
  "language_info": {
   "codemirror_mode": {
    "name": "ipython",
    "version": 3
   },
   "file_extension": ".py",
   "mimetype": "text/x-python",
   "name": "python",
   "nbconvert_exporter": "python",
   "pygments_lexer": "ipython3",
   "version": "3.9.7"
  }
 },
 "nbformat": 4,
 "nbformat_minor": 2
}
